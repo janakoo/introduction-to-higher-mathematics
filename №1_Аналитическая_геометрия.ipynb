{
  "nbformat": 4,
  "nbformat_minor": 0,
  "metadata": {
    "colab": {
      "name": "№1 Аналитическая геометрия.ipynb",
      "provenance": [],
      "authorship_tag": "ABX9TyNwAoXq+yxOnmCAZec6n+Mn",
      "include_colab_link": true
    },
    "kernelspec": {
      "name": "python3",
      "display_name": "Python 3"
    },
    "language_info": {
      "name": "python"
    }
  },
  "cells": [
    {
      "cell_type": "markdown",
      "metadata": {
        "id": "view-in-github",
        "colab_type": "text"
      },
      "source": [
        "<a href=\"https://colab.research.google.com/github/janakoo/introduction-to-higher-mathematics/blob/lesson_3/%E2%84%961_%D0%90%D0%BD%D0%B0%D0%BB%D0%B8%D1%82%D0%B8%D1%87%D0%B5%D1%81%D0%BA%D0%B0%D1%8F_%D0%B3%D0%B5%D0%BE%D0%BC%D0%B5%D1%82%D1%80%D0%B8%D1%8F.ipynb\" target=\"_parent\"><img src=\"https://colab.research.google.com/assets/colab-badge.svg\" alt=\"Open In Colab\"/></a>"
      ]
    },
    {
      "cell_type": "code",
      "execution_count": 1,
      "metadata": {
        "colab": {
          "base_uri": "https://localhost:8080/"
        },
        "id": "yxPjDmKHp6aQ",
        "outputId": "9a180f25-d7a8-48b6-c19f-6b32fda63305"
      },
      "outputs": [
        {
          "output_type": "stream",
          "name": "stdout",
          "text": [
            "Введите координаты вектора\n",
            "x: 5\n",
            "y: 5\n",
            "z: 5\n",
            "длина вектора: 8.660254037844387\n"
          ]
        }
      ],
      "source": [
        "import math as mt\n",
        "\n",
        "a = input('Введите координаты вектора')\n",
        "x = float(input( 'x: '))\n",
        "c = float(input( 'y: '))\n",
        "z = float(input( 'z: '))\n",
        "vec = float(x**2 + c**2 + z**2)\n",
        "#print(vec)\n",
        "l_vec = mt.sqrt(vec)\n",
        "print('длина вектора:', l_vec)\n"
      ]
    }
  ]
}