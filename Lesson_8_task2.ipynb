{
  "nbformat": 4,
  "nbformat_minor": 0,
  "metadata": {
    "colab": {
      "name": "Lesson 8_task2.ipynb",
      "provenance": [],
      "authorship_tag": "ABX9TyMHCwF032ABU9YYA8NabUmu",
      "include_colab_link": true
    },
    "kernelspec": {
      "name": "python3",
      "display_name": "Python 3"
    },
    "language_info": {
      "name": "python"
    }
  },
  "cells": [
    {
      "cell_type": "markdown",
      "metadata": {
        "id": "view-in-github",
        "colab_type": "text"
      },
      "source": [
        "<a href=\"https://colab.research.google.com/github/janakoo/introduction-to-higher-mathematics/blob/lesson_8/Lesson_8_task2.ipynb\" target=\"_parent\"><img src=\"https://colab.research.google.com/assets/colab-badge.svg\" alt=\"Open In Colab\"/></a>"
      ]
    },
    {
      "cell_type": "code",
      "execution_count": 1,
      "metadata": {
        "colab": {
          "base_uri": "https://localhost:8080/"
        },
        "id": "W7_uAAA5oBgK",
        "outputId": "5a1e51a0-edbf-439f-ffb7-7fee3cd51d77"
      },
      "outputs": [
        {
          "output_type": "stream",
          "name": "stderr",
          "text": [
            "/usr/local/lib/python3.7/dist-packages/ipykernel_launcher.py:5: FutureWarning: `rcond` parameter will change to the default of machine precision times ``max(M, N)`` where M and N are the input matrix dimensions.\n",
            "To use the future default and silence this warning we advise to pass `rcond=None`, to keep using the old, explicitly pass `rcond=-1`.\n",
            "  \"\"\"\n"
          ]
        },
        {
          "output_type": "execute_result",
          "data": {
            "text/plain": [
              "(array([ 1.13919353, -0.90498444, -0.9009803 ]),\n",
              " array([0.71523211]),\n",
              " 3,\n",
              " array([15.2817306 ,  9.59852942,  3.65197794]))"
            ]
          },
          "metadata": {},
          "execution_count": 1
        }
      ],
      "source": [
        "import numpy as np\n",
        "import matplotlib.pyplot as plt\n",
        "A = np.array([[1,2,-1], [3,-4,0],[8,-5,2],[2,0,-5],[11,4,-7]])\n",
        "B = np.array([1,7,12,7,15])\n",
        "np.linalg.lstsq(A, B)"
      ]
    }
  ]
}