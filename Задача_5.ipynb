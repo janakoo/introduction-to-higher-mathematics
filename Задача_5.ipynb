{
  "nbformat": 4,
  "nbformat_minor": 0,
  "metadata": {
    "colab": {
      "name": "Задача 5.ipynb",
      "provenance": [],
      "authorship_tag": "ABX9TyPuKml/w4FKgwnOglerLaQy",
      "include_colab_link": true
    },
    "kernelspec": {
      "name": "python3",
      "display_name": "Python 3"
    },
    "language_info": {
      "name": "python"
    }
  },
  "cells": [
    {
      "cell_type": "markdown",
      "metadata": {
        "id": "view-in-github",
        "colab_type": "text"
      },
      "source": [
        "<a href=\"https://colab.research.google.com/github/janakoo/introduction-to-higher-mathematics/blob/lesson_5/%D0%97%D0%B0%D0%B4%D0%B0%D1%87%D0%B0_5.ipynb\" target=\"_parent\"><img src=\"https://colab.research.google.com/assets/colab-badge.svg\" alt=\"Open In Colab\"/></a>"
      ]
    },
    {
      "cell_type": "code",
      "execution_count": 1,
      "metadata": {
        "colab": {
          "base_uri": "https://localhost:8080/",
          "height": 390
        },
        "id": "S_ZU8R-tL3cj",
        "outputId": "b71f0803-4d9a-4084-ffd7-f225938941ab"
      },
      "outputs": [
        {
          "output_type": "stream",
          "name": "stdout",
          "text": [
            "R= 0.966923695464745\n",
            "0.7794775664862 0.10077217062166731\n",
            "0.7794775664862004 0.10077217062166731\n"
          ]
        },
        {
          "output_type": "stream",
          "name": "stderr",
          "text": [
            "/usr/local/lib/python3.7/dist-packages/ipykernel_launcher.py:24: FutureWarning: `rcond` parameter will change to the default of machine precision times ``max(M, N)`` where M and N are the input matrix dimensions.\n",
            "To use the future default and silence this warning we advise to pass `rcond=None`, to keep using the old, explicitly pass `rcond=-1`.\n"
          ]
        },
        {
          "output_type": "display_data",
          "data": {
            "text/plain": [
              "<Figure size 432x288 with 1 Axes>"
            ],
            "image/png": "[encoded data removed]"
          },
          "metadata": {
            "needs_background": "light"
          }
        }
      ],
      "source": [
        "%matplotlib inline\n",
        "import numpy as np\n",
        "import matplotlib.pyplot as plt\n",
        "\n",
        "n = 100\n",
        "r = 0.8\n",
        "x = np.random.rand(n)\n",
        "y = r*x + (1 - r)*np.random.rand(n)\n",
        "plt.plot(x, y, 'o')\n",
        "plt.xlabel('x')\n",
        "plt.ylabel('y')\n",
        "plt.grid(True)\n",
        "\n",
        "a = (np.sum(x)*np.sum(y) - n*np.sum(x*y))/(np.sum(x)*np.sum(x) - n*np.sum(x*x))\n",
        "b = (np.sum(y) - a*np.sum(x))/n\n",
        "\n",
        "mean_x = sum(x) / n\n",
        "mean_y = sum(y) / n\n",
        "cov_xy = sum((x - mean_x) * (y - mean_y))\n",
        "varxy=(sum((x - mean_x)**2) * sum((y - mean_y)**2))**0.5\n",
        "corxy = cov_xy/varxy\n",
        "print(\"R=\", corxy)\n",
        "A = np.vstack([x, np.ones(len(x))]).T\n",
        "a1, b1 = np.linalg.lstsq(A, y)[0]\n",
        "print(a, b)\n",
        "print(a1, b1)\n",
        "\n",
        "plt.plot([0, 1], [b, a + b])\n",
        "plt.show()"
      ]
    }
  ]
}