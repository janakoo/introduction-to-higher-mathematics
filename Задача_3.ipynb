{
  "nbformat": 4,
  "nbformat_minor": 0,
  "metadata": {
    "colab": {
      "name": "Задача 3.ipynb",
      "provenance": [],
      "authorship_tag": "ABX9TyMNQc+1xh0O/u+V2C/7DOU0",
      "include_colab_link": true
    },
    "kernelspec": {
      "name": "python3",
      "display_name": "Python 3"
    },
    "language_info": {
      "name": "python"
    }
  },
  "cells": [
    {
      "cell_type": "markdown",
      "metadata": {
        "id": "view-in-github",
        "colab_type": "text"
      },
      "source": [
        "<a href=\"https://colab.research.google.com/github/janakoo/introduction-to-higher-mathematics/blob/lesson_5/%D0%97%D0%B0%D0%B4%D0%B0%D1%87%D0%B0_3.ipynb\" target=\"_parent\"><img src=\"https://colab.research.google.com/assets/colab-badge.svg\" alt=\"Open In Colab\"/></a>"
      ]
    },
    {
      "cell_type": "code",
      "execution_count": null,
      "metadata": {
        "id": "uKl6H_EyLIOM"
      },
      "outputs": [],
      "source": [
        "import numpy as np\n",
        "import math\n",
        "k, n = 0, 1000\n",
        "a = np.random.randint(0, 2, n)\n",
        "b = np.random.randint(0, 2, n)\n",
        "c = np.random.randint(0, 2, n)\n",
        "d = np.random.randint(0, 2, n)\n",
        "x = a + b + c + d\n",
        "for i in range(0, n):\n",
        "    if x[i] == 2:\n",
        "        k = k + 1\n",
        "print(k, n, k/n)"
      ]
    },
    {
      "cell_type": "code",
      "source": [
        "#Задача 3.1 Теоретический расчет и экспериментальный рассчет р совпадают\n",
        "import numpy as np\n",
        "import math\n",
        "k =2\n",
        "n = 4\n",
        "p = 1/2\n",
        "a=np.math.factorial(n)\n",
        "b=np.math.factorial(k)\n",
        "v=np.math.factorial(n-k)\n",
        "c= a/(b*v)\n",
        "p= c*(p**k)*(1-p)**(n-k)\n",
        "p_v2= c/(2**n)\n",
        "\n",
        "print(c,p,p_v2)"
      ],
      "metadata": {
        "id": "F68WoX6nLMGq"
      },
      "execution_count": null,
      "outputs": []
    },
    {
      "cell_type": "code",
      "source": [
        "#Задача 3.2\n",
        "import numpy as np\n",
        "import math\n",
        "k =6\n",
        "n = 25\n",
        "p = 1/5\n",
        "a=np.math.factorial(n)\n",
        "b=np.math.factorial(k)\n",
        "v=np.math.factorial(n-k)\n",
        "c= a/(b*v)\n",
        "p= c*(p**k)*(1-p)**(n-k)\n",
        "\n",
        "print(c,p)"
      ],
      "metadata": {
        "id": "4Resop-sLRI5"
      },
      "execution_count": null,
      "outputs": []
    }
  ]
}