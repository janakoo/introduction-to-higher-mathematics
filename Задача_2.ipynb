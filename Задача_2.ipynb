{
  "nbformat": 4,
  "nbformat_minor": 0,
  "metadata": {
    "colab": {
      "name": "Задача 2.ipynb",
      "provenance": [],
      "authorship_tag": "ABX9TyMEGKUgjIKimQ6G+LbGV830",
      "include_colab_link": true
    },
    "kernelspec": {
      "name": "python3",
      "display_name": "Python 3"
    },
    "language_info": {
      "name": "python"
    }
  },
  "cells": [
    {
      "cell_type": "markdown",
      "metadata": {
        "id": "view-in-github",
        "colab_type": "text"
      },
      "source": [
        "<a href=\"https://colab.research.google.com/github/janakoo/introduction-to-higher-mathematics/blob/lesson_5/%D0%97%D0%B0%D0%B4%D0%B0%D1%87%D0%B0_2.ipynb\" target=\"_parent\"><img src=\"https://colab.research.google.com/assets/colab-badge.svg\" alt=\"Open In Colab\"/></a>"
      ]
    },
    {
      "cell_type": "code",
      "execution_count": null,
      "metadata": {
        "colab": {
          "base_uri": "https://localhost:8080/",
          "height": 364
        },
        "id": "wAYF710BxZFP",
        "outputId": "398bb851-8903-4a31-f99b-80e0eecaadf5"
      },
      "outputs": [
        {
          "output_type": "stream",
          "name": "stdout",
          "text": [
            "0.02719 0.47431 0.4985\n",
            "Сумма вероятностей:  1.0\n",
            "0.02702702702702703 0.4864864864864865 0.4864864864864865\n"
          ]
        },
        {
          "output_type": "execute_result",
          "data": {
            "text/plain": [
              "Text(0.5, 1.0, 'Гистограмма')"
            ]
          },
          "metadata": {},
          "execution_count": 44
        },
        {
          "output_type": "display_data",
          "data": {
            "text/plain": [
              "<Figure size 432x288 with 1 Axes>"
            ],
            "image/png": "[encoded data removed]"
          },
          "metadata": {
            "needs_background": "light"
          }
        }
      ],
      "source": [
        "%matplotlib inline\n",
        "import numpy as np\n",
        "import matplotlib.pyplot as plt\n",
        "import matplotlib.ticker as ticker\n",
        "import math\n",
        "import matplotlib \n",
        "import pylab\n",
        "from scipy.optimize import fsolve\n",
        "\n",
        "# из теорем сложения или умножения вероятности \n",
        "\n",
        "n = 100000\n",
        "\n",
        "red = 0\n",
        "green = 0\n",
        "black = 0\n",
        "np.random.seed(111) \n",
        "for i in range(n):\n",
        "    num = np.random.randint(0, 36)\n",
        "    if num==0:\n",
        "        green += 1\n",
        "    elif num in [1,3,5,7,9,12,14,16,18,19,21,23,25,27,30,32,34,36]:\n",
        "        red += 1\n",
        "    else:\n",
        "        black += 1\n",
        "print (green/n,red/n,black/n)\n",
        "print (\"Сумма вероятностей: \",green/n+red/n+black/n)\n",
        "print (1/37,18/37,18/37)\n",
        "\n",
        "#Cгенерируйте десять выборок случайных чисел х0, …, х9 \n",
        "\n",
        "sums=[]\n",
        "n = 10000\n",
        "for i in range(n):\n",
        "  x=np.random.rand(10)\n",
        "  sums.append(sum(x))\n",
        "  i+=1\n",
        "num_bins = 100\n",
        "n, bins, patches = plt.hist(sums, num_bins)\n",
        "plt.xlabel('Сумма')\n",
        "plt.ylabel('Частота')\n",
        "plt.title('Гистограмма')"
      ]
    }
  ]
}