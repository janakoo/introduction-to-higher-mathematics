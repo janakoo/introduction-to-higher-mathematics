{
  "nbformat": 4,
  "nbformat_minor": 0,
  "metadata": {
    "colab": {
      "name": "Задача 4.ipynb",
      "provenance": [],
      "authorship_tag": "ABX9TyM2YynzHigx+VRm/n5EOLlr",
      "include_colab_link": true
    },
    "kernelspec": {
      "name": "python3",
      "display_name": "Python 3"
    },
    "language_info": {
      "name": "python"
    }
  },
  "cells": [
    {
      "cell_type": "markdown",
      "metadata": {
        "id": "view-in-github",
        "colab_type": "text"
      },
      "source": [
        "<a href=\"https://colab.research.google.com/github/janakoo/introduction-to-higher-mathematics/blob/lesson_5/%D0%97%D0%B0%D0%B4%D0%B0%D1%87%D0%B0_4.ipynb\" target=\"_parent\"><img src=\"https://colab.research.google.com/assets/colab-badge.svg\" alt=\"Open In Colab\"/></a>"
      ]
    },
    {
      "cell_type": "code",
      "execution_count": null,
      "metadata": {
        "id": "9VNdfxrpLd3y"
      },
      "outputs": [],
      "source": [
        "#Задача 4\n",
        "import numpy as np\n",
        "import math\n",
        "k, n = 0, 10000\n",
        "a = np.random.randint(0, 3, n)\n",
        "b = np.random.randint(0, 3, n)\n",
        "c = np.random.randint(0, 3, n)\n",
        "d = np.random.randint(0, 3, n)\n",
        "x = a + b + c + d\n",
        "for i in range(0, n):\n",
        "    L = [a[i],b[i],c[i],d[i]]\n",
        "  #  print(L)\n",
        "    if L.count(1) == 1:\n",
        "        k = k + 1\n",
        "#print(a, b, c, d)\n",
        "#print(x)\n",
        "print(k, n, k/n)\n"
      ]
    },
    {
      "cell_type": "code",
      "source": [
        "import numpy as np\n",
        "import math\n",
        "k =1\n",
        "n = 4\n",
        "p = 1/3\n",
        "a=np.math.factorial(n)\n",
        "b=np.math.factorial(k)\n",
        "v=np.math.factorial(n-k)\n",
        "c= a/(b*v)\n",
        "p= c*p**k*(1-p)**(n-k)\n",
        "\n",
        "print(c,p)\n"
      ],
      "metadata": {
        "id": "Iwd3Opx-Liwa"
      },
      "execution_count": null,
      "outputs": []
    }
  ]
}